{
 "cells": [
  {
   "cell_type": "code",
   "execution_count": 3,
   "id": "5360114b-a6bd-406d-af61-925b26e927f2",
   "metadata": {
    "tags": []
   },
   "outputs": [],
   "source": [
    "import numpy as np\n",
    "import pandas as pd\n",
    "import seaborn as sns\n",
    "import matplotlib.pyplot as plt\n",
    "from functions import *\n",
    "import warnings\n",
    "from sklearn.model_selection import ShuffleSplit\n",
    "from sklearn.model_selection import learning_curve\n",
    "from sklearn.model_selection import validation_curve\n",
    "warnings.simplefilter(action='ignore', category=FutureWarning)\n",
    "sns.set(color_codes=True)\n",
    "%matplotlib inline "
   ]
  },
  {
   "cell_type": "markdown",
   "id": "5a438340-1da6-4db3-afff-f01a523cf89b",
   "metadata": {},
   "source": [
    "# Inputting data"
   ]
  },
  {
   "cell_type": "code",
   "execution_count": 4,
   "id": "6b204bb9-f093-4886-8145-bfa3a074b566",
   "metadata": {},
   "outputs": [],
   "source": [
    "dataset = pd.read_csv(\"data/diabetes.csv\")"
   ]
  },
  {
   "cell_type": "code",
   "execution_count": 5,
   "id": "adf6e7ba-6996-495f-beb4-83b8f7f31687",
   "metadata": {},
   "outputs": [
    {
     "name": "stdout",
     "output_type": "stream",
     "text": [
      "<class 'pandas.core.frame.DataFrame'>\n",
      "RangeIndex: 768 entries, 0 to 767\n",
      "Data columns (total 9 columns):\n",
      " #   Column                    Non-Null Count  Dtype  \n",
      "---  ------                    --------------  -----  \n",
      " 0   Pregnancies               768 non-null    int64  \n",
      " 1   Glucose                   768 non-null    int64  \n",
      " 2   BloodPressure             768 non-null    int64  \n",
      " 3   SkinThickness             768 non-null    int64  \n",
      " 4   Insulin                   768 non-null    int64  \n",
      " 5   BMI                       768 non-null    float64\n",
      " 6   DiabetesPedigreeFunction  768 non-null    float64\n",
      " 7   Age                       768 non-null    int64  \n",
      " 8   Outcome                   768 non-null    int64  \n",
      "dtypes: float64(2), int64(7)\n",
      "memory usage: 54.1 KB\n"
     ]
    }
   ],
   "source": [
    "dataset.info()"
   ]
  },
  {
   "cell_type": "markdown",
   "id": "3d64487b-87a0-4f24-a81b-cd66b67e4432",
   "metadata": {},
   "source": [
    "#### Checking data for the broken values (numbers below zero)"
   ]
  },
  {
   "cell_type": "code",
   "execution_count": 6,
   "id": "37a91da3-a379-484c-aa67-8d461d8ce205",
   "metadata": {},
   "outputs": [
    {
     "name": "stdout",
     "output_type": "stream",
     "text": [
      "Values under 0 not found in Pregnancies\n",
      "Values under 0 not found in Glucose\n",
      "Values under 0 not found in BloodPressure\n",
      "Values under 0 not found in SkinThickness\n",
      "Values under 0 not found in Insulin\n",
      "Values under 0 not found in BMI\n",
      "Values under 0 not found in DiabetesPedigreeFunction\n",
      "Values under 0 not found in Age\n",
      "Values under 0 not found in Outcome\n"
     ]
    }
   ],
   "source": [
    "columnsToCheckUnderZero = list(dataset.columns.values)\n",
    "for i in columnsToCheckUnderZero:\n",
    "    if not check_values_under_zero(dataset, i):\n",
    "        print(\"Values under 0 not found in\", i)"
   ]
  },
  {
   "cell_type": "markdown",
   "id": "7e524c77-9ffe-49b4-ab36-0c6602a02a75",
   "metadata": {},
   "source": [
    "#### Check columns for presenting 0 in it and if it exists change it to average"
   ]
  },
  {
   "cell_type": "code",
   "execution_count": 7,
   "id": "56247d05-40ac-498f-b83f-e2189aa94111",
   "metadata": {},
   "outputs": [],
   "source": [
    "columnsToCheckForZero = list(dataset.columns.values)[1:7]"
   ]
  },
  {
   "cell_type": "code",
   "execution_count": 8,
   "id": "e7541090-b52c-4adb-a066-2cde140ffe16",
   "metadata": {},
   "outputs": [
    {
     "name": "stdout",
     "output_type": "stream",
     "text": [
      "Found 0 in column: Glucose\n",
      "Found 0 in column: BloodPressure\n",
      "Found 0 in column: SkinThickness\n",
      "Found 0 in column: Insulin\n",
      "Found 0 in column: BMI\n"
     ]
    },
    {
     "data": {
      "text/html": [
       "<div>\n",
       "<style scoped>\n",
       "    .dataframe tbody tr th:only-of-type {\n",
       "        vertical-align: middle;\n",
       "    }\n",
       "\n",
       "    .dataframe tbody tr th {\n",
       "        vertical-align: top;\n",
       "    }\n",
       "\n",
       "    .dataframe thead th {\n",
       "        text-align: right;\n",
       "    }\n",
       "</style>\n",
       "<table border=\"1\" class=\"dataframe\">\n",
       "  <thead>\n",
       "    <tr style=\"text-align: right;\">\n",
       "      <th></th>\n",
       "      <th>Pregnancies</th>\n",
       "      <th>Glucose</th>\n",
       "      <th>BloodPressure</th>\n",
       "      <th>SkinThickness</th>\n",
       "      <th>Insulin</th>\n",
       "      <th>BMI</th>\n",
       "      <th>DiabetesPedigreeFunction</th>\n",
       "      <th>Age</th>\n",
       "      <th>Outcome</th>\n",
       "    </tr>\n",
       "  </thead>\n",
       "  <tbody>\n",
       "    <tr>\n",
       "      <th>0</th>\n",
       "      <td>6</td>\n",
       "      <td>148.0</td>\n",
       "      <td>72.00</td>\n",
       "      <td>35.00</td>\n",
       "      <td>79.80</td>\n",
       "      <td>33.60</td>\n",
       "      <td>0.627</td>\n",
       "      <td>50</td>\n",
       "      <td>1</td>\n",
       "    </tr>\n",
       "    <tr>\n",
       "      <th>1</th>\n",
       "      <td>1</td>\n",
       "      <td>85.0</td>\n",
       "      <td>66.00</td>\n",
       "      <td>29.00</td>\n",
       "      <td>79.90</td>\n",
       "      <td>26.60</td>\n",
       "      <td>0.351</td>\n",
       "      <td>31</td>\n",
       "      <td>0</td>\n",
       "    </tr>\n",
       "    <tr>\n",
       "      <th>2</th>\n",
       "      <td>8</td>\n",
       "      <td>183.0</td>\n",
       "      <td>64.00</td>\n",
       "      <td>20.54</td>\n",
       "      <td>80.01</td>\n",
       "      <td>23.30</td>\n",
       "      <td>0.672</td>\n",
       "      <td>32</td>\n",
       "      <td>1</td>\n",
       "    </tr>\n",
       "    <tr>\n",
       "      <th>3</th>\n",
       "      <td>1</td>\n",
       "      <td>89.0</td>\n",
       "      <td>66.00</td>\n",
       "      <td>23.00</td>\n",
       "      <td>94.00</td>\n",
       "      <td>28.10</td>\n",
       "      <td>0.167</td>\n",
       "      <td>21</td>\n",
       "      <td>0</td>\n",
       "    </tr>\n",
       "    <tr>\n",
       "      <th>4</th>\n",
       "      <td>0</td>\n",
       "      <td>137.0</td>\n",
       "      <td>40.00</td>\n",
       "      <td>35.00</td>\n",
       "      <td>168.00</td>\n",
       "      <td>43.10</td>\n",
       "      <td>2.288</td>\n",
       "      <td>33</td>\n",
       "      <td>1</td>\n",
       "    </tr>\n",
       "    <tr>\n",
       "      <th>5</th>\n",
       "      <td>5</td>\n",
       "      <td>116.0</td>\n",
       "      <td>74.00</td>\n",
       "      <td>20.56</td>\n",
       "      <td>80.11</td>\n",
       "      <td>25.60</td>\n",
       "      <td>0.201</td>\n",
       "      <td>30</td>\n",
       "      <td>0</td>\n",
       "    </tr>\n",
       "    <tr>\n",
       "      <th>6</th>\n",
       "      <td>3</td>\n",
       "      <td>78.0</td>\n",
       "      <td>50.00</td>\n",
       "      <td>32.00</td>\n",
       "      <td>88.00</td>\n",
       "      <td>31.00</td>\n",
       "      <td>0.248</td>\n",
       "      <td>26</td>\n",
       "      <td>1</td>\n",
       "    </tr>\n",
       "    <tr>\n",
       "      <th>7</th>\n",
       "      <td>10</td>\n",
       "      <td>115.0</td>\n",
       "      <td>69.11</td>\n",
       "      <td>20.59</td>\n",
       "      <td>80.22</td>\n",
       "      <td>35.30</td>\n",
       "      <td>0.134</td>\n",
       "      <td>29</td>\n",
       "      <td>0</td>\n",
       "    </tr>\n",
       "    <tr>\n",
       "      <th>8</th>\n",
       "      <td>2</td>\n",
       "      <td>197.0</td>\n",
       "      <td>70.00</td>\n",
       "      <td>45.00</td>\n",
       "      <td>543.00</td>\n",
       "      <td>30.50</td>\n",
       "      <td>0.158</td>\n",
       "      <td>53</td>\n",
       "      <td>1</td>\n",
       "    </tr>\n",
       "    <tr>\n",
       "      <th>9</th>\n",
       "      <td>8</td>\n",
       "      <td>125.0</td>\n",
       "      <td>96.00</td>\n",
       "      <td>20.62</td>\n",
       "      <td>80.32</td>\n",
       "      <td>31.99</td>\n",
       "      <td>0.232</td>\n",
       "      <td>54</td>\n",
       "      <td>1</td>\n",
       "    </tr>\n",
       "  </tbody>\n",
       "</table>\n",
       "</div>"
      ],
      "text/plain": [
       "   Pregnancies  Glucose  BloodPressure  SkinThickness  Insulin    BMI  \\\n",
       "0            6    148.0          72.00          35.00    79.80  33.60   \n",
       "1            1     85.0          66.00          29.00    79.90  26.60   \n",
       "2            8    183.0          64.00          20.54    80.01  23.30   \n",
       "3            1     89.0          66.00          23.00    94.00  28.10   \n",
       "4            0    137.0          40.00          35.00   168.00  43.10   \n",
       "5            5    116.0          74.00          20.56    80.11  25.60   \n",
       "6            3     78.0          50.00          32.00    88.00  31.00   \n",
       "7           10    115.0          69.11          20.59    80.22  35.30   \n",
       "8            2    197.0          70.00          45.00   543.00  30.50   \n",
       "9            8    125.0          96.00          20.62    80.32  31.99   \n",
       "\n",
       "   DiabetesPedigreeFunction  Age  Outcome  \n",
       "0                     0.627   50        1  \n",
       "1                     0.351   31        0  \n",
       "2                     0.672   32        1  \n",
       "3                     0.167   21        0  \n",
       "4                     2.288   33        1  \n",
       "5                     0.201   30        0  \n",
       "6                     0.248   26        1  \n",
       "7                     0.134   29        0  \n",
       "8                     0.158   53        1  \n",
       "9                     0.232   54        1  "
      ]
     },
     "execution_count": 8,
     "metadata": {},
     "output_type": "execute_result"
    }
   ],
   "source": [
    "for i in columnsToCheckForZero:\n",
    "    dataset = zero_to_average(dataset, i)\n",
    "dataset.head(10)    \n"
   ]
  },
  {
   "cell_type": "markdown",
   "id": "ac9c16d5-d420-4995-9921-42fe04b5731a",
   "metadata": {
    "tags": []
   },
   "source": [
    "#### Now we need to split data for info and result"
   ]
  },
  {
   "cell_type": "code",
   "execution_count": 9,
   "id": "9fe5f182-9b37-45aa-9256-980a89660fe0",
   "metadata": {},
   "outputs": [],
   "source": [
    "from sklearn.model_selection import train_test_split\n",
    "X = dataset.drop(columns='Outcome')\n",
    "y = dataset['Outcome']\n",
    "X_train, X_test, y_train, y_test = train_test_split(X, y, test_size=0.2, train_size=0.8, random_state=0)"
   ]
  },
  {
   "cell_type": "markdown",
   "id": "f3ebaf8f-5d29-44f3-8180-92aef010f74b",
   "metadata": {},
   "source": [
    "##### Comparison of sick and healthy patients"
   ]
  },
  {
   "cell_type": "code",
   "execution_count": 10,
   "id": "9cb8c9c7-edb6-4467-aa98-f033964157c3",
   "metadata": {},
   "outputs": [
    {
     "data": {
      "image/png": "[encoded data removed]",
      "text/plain": [
       "<Figure size 432x288 with 1 Axes>"
      ]
     },
     "metadata": {
      "needs_background": "light"
     },
     "output_type": "display_data"
    }
   ],
   "source": [
    "sns.countplot(x=\"Outcome\", data=dataset, palette = \"Greens\")\n",
    "plt.show()"
   ]
  },
  {
   "cell_type": "markdown",
   "id": "25dbb743-435a-4280-bdcc-9f2a56afcfcb",
   "metadata": {},
   "source": [
    "## Gaussian Naive bayes"
   ]
  },
  {
   "cell_type": "code",
   "execution_count": 11,
   "id": "9906ffbd-f0c9-455e-b64c-9c5f3bf0f271",
   "metadata": {},
   "outputs": [],
   "source": [
    "from sklearn.naive_bayes import GaussianNB\n",
    "from sklearn.model_selection import learning_curve\n",
    "\n",
    "gnb = GaussianNB()\n",
    "gnb.fit(X_train, y_train)\n",
    "y_pred = gnb.predict(X_test)"
   ]
  },
  {
   "cell_type": "markdown",
   "id": "b83bef57-b24d-4411-b149-546ca6b3d52d",
   "metadata": {},
   "source": [
    "### Performance"
   ]
  },
  {
   "cell_type": "code",
   "execution_count": 12,
   "id": "950a622e-65e5-488b-b81d-394b73a3314b",
   "metadata": {},
   "outputs": [
    {
     "name": "stdout",
     "output_type": "stream",
     "text": [
      "Accuracy for training is: 0.74593\n",
      "Accuracy for testing is: 0.78571\n",
      "Number of mislabeled points out of a total 154 points : 33\n"
     ]
    }
   ],
   "source": [
    "from sklearn import metrics\n",
    "\n",
    "prediction_from_trained_data = gnb.predict(X_train)\n",
    "\n",
    "accuracyOnTraining = metrics.accuracy_score(y_train, prediction_from_trained_data)\n",
    "accuracyOnTesting = metrics.accuracy_score(y_test, y_pred)\n",
    "print(\"Accuracy for training is:\", round(accuracyOnTraining, 5))\n",
    "print(\"Accuracy for testing is:\", round(accuracyOnTesting, 5))\n",
    "print(\"Number of mislabeled points out of a total %d points : %d\" % (X_test.shape[0], (y_test != y_pred).sum()))"
   ]
  },
  {
   "cell_type": "markdown",
   "id": "7100dd1b-0b41-4551-942e-54c483c54319",
   "metadata": {},
   "source": [
    "### Plot that displays true and predicted results"
   ]
  },
  {
   "cell_type": "code",
   "execution_count": 13,
   "id": "08f62d11-e4e3-429a-9a62-7908b7934c0d",
   "metadata": {},
   "outputs": [
    {
     "data": {
      "image/png": "[encoded data removed]",
      "text/plain": [
       "<Figure size 1080x288 with 1 Axes>"
      ]
     },
     "metadata": {
      "needs_background": "light"
     },
     "output_type": "display_data"
    }
   ],
   "source": [
    "plt.rcParams[\"figure.figsize\"] = (15,4)\n",
    "plt.gca().axes.get_yaxis().set_visible(False)\n",
    "plt.plot(X_test.index, y_test, \"yx\", label = \"True result\")\n",
    "plt.plot(X_test.index, y_pred, \"b+\", label = \"Predict result\")\n",
    "plt.legend(loc=\"center right\", shadow=True)\n",
    "plt.show()"
   ]
  },
  {
   "cell_type": "markdown",
   "id": "c07da7e5-4c21-4fba-a1db-52bf3ea6cc1b",
   "metadata": {},
   "source": [
    "### Confusion matrix"
   ]
  },
  {
   "cell_type": "code",
   "execution_count": 22,
   "id": "33369ccb-e4b2-4a2c-9e4c-5ddb897ede15",
   "metadata": {},
   "outputs": [
    {
     "data": {
      "image/png": "[encoded data removed]",
      "text/plain": [
       "<Figure size 1080x288 with 2 Axes>"
      ]
     },
     "metadata": {
      "needs_background": "light"
     },
     "output_type": "display_data"
    }
   ],
   "source": [
    "metrics.plot_confusion_matrix(gnb, X_test, y_test, cmap = \"Purples\")\n",
    "plt.grid(False)"
   ]
  },
  {
   "cell_type": "markdown",
   "id": "c3d099a4-3149-48f0-ac45-6fa368bdace5",
   "metadata": {},
   "source": [
    "## Logistic Regression"
   ]
  },
  {
   "cell_type": "code",
   "execution_count": 15,
   "id": "e5700867-a0c0-4aaf-92fc-fbe70edd3c0b",
   "metadata": {},
   "outputs": [],
   "source": [
    "from sklearn.linear_model import LogisticRegression\n",
    "\n",
    "logreg = LogisticRegression(C=0.6, random_state=0, max_iter=250)\n",
    "logreg.fit(X_train, y_train)\n",
    "y_pred = logreg.predict(X_test)\n",
    "logreg_predict_train = logreg.predict(X_train)"
   ]
  },
  {
   "cell_type": "markdown",
   "id": "d0a7d08f-727a-48d1-8577-43f635a77887",
   "metadata": {},
   "source": [
    "### Performance"
   ]
  },
  {
   "cell_type": "code",
   "execution_count": 16,
   "id": "560d53f8-fd19-4197-ba53-46b14712f884",
   "metadata": {
    "tags": []
   },
   "outputs": [
    {
     "name": "stdout",
     "output_type": "stream",
     "text": [
      "Accuracy for testing: 0.81169\n",
      "Accuracy for training: 0.7671\n",
      "Number of mislabeled points out of a total 154 points : 29\n"
     ]
    }
   ],
   "source": [
    "accuracyOnTraining = metrics.accuracy_score(y_train, logreg_predict_train)\n",
    "accuracyOnTesting = metrics.accuracy_score(y_test, y_pred)\n",
    "\n",
    "print (\"Accuracy for testing:\", round(accuracyOnTesting, 5))\n",
    "print (\"Accuracy for training:\", round(accuracyOnTraining, 5))\n",
    "print(\"Number of mislabeled points out of a total %d points : %d\" % (X_test.shape[0], (y_test != y_pred).sum()))"
   ]
  },
  {
   "cell_type": "markdown",
   "id": "96288bb5-83dd-4720-9210-db6c4b74a443",
   "metadata": {
    "tags": []
   },
   "source": [
    "### Plot that displays true and predicted results"
   ]
  },
  {
   "cell_type": "code",
   "execution_count": 17,
   "id": "57c5c0da-8dc9-4d3f-a1cb-42280db6620d",
   "metadata": {},
   "outputs": [
    {
     "data": {
      "image/png": "[encoded data removed]",
      "text/plain": [
       "<Figure size 1080x288 with 1 Axes>"
      ]
     },
     "metadata": {
      "needs_background": "light"
     },
     "output_type": "display_data"
    }
   ],
   "source": [
    "plt.rcParams[\"figure.figsize\"] = (15,4)\n",
    "plt.gca().axes.get_yaxis().set_visible(False)\n",
    "plt.plot(X_test.index, y_test, \"yx\", label = \"True result\")\n",
    "plt.plot(X_test.index, y_pred, \"b+\", label = \"Predict result\")\n",
    "plt.legend(loc=\"center right\", shadow=True)\n",
    "plt.show()"
   ]
  },
  {
   "cell_type": "markdown",
   "id": "811fa8f4-632c-43d7-97e7-ac37b6576f47",
   "metadata": {},
   "source": [
    "### Confusion matrix"
   ]
  },
  {
   "cell_type": "code",
   "execution_count": 20,
   "id": "10b68451-ecfe-4c39-9647-92ae479d574c",
   "metadata": {},
   "outputs": [
    {
     "data": {
      "image/png": "[encoded data removed]",
      "text/plain": [
       "<Figure size 1080x288 with 2 Axes>"
      ]
     },
     "metadata": {
      "needs_background": "light"
     },
     "output_type": "display_data"
    }
   ],
   "source": [
    "metrics.plot_confusion_matrix(logreg, X_test, y_test, cmap=\"Purples\")\n",
    "plt.grid(False)"
   ]
  },
  {
   "cell_type": "code",
   "execution_count": null,
   "id": "43e4897e-eec6-4d85-86d4-6793ea61deab",
   "metadata": {},
   "outputs": [],
   "source": []
  },
  {
   "cell_type": "code",
   "execution_count": null,
   "id": "8922e254-e262-46f3-b41f-73c1bfdc8743",
   "metadata": {},
   "outputs": [],
   "source": []
  }
 ],
 "metadata": {
  "kernelspec": {
   "display_name": "Python 3 (ipykernel)",
   "language": "python",
   "name": "python3"
  },
  "language_info": {
   "codemirror_mode": {
    "name": "ipython",
    "version": 3
   },
   "file_extension": ".py",
   "mimetype": "text/x-python",
   "name": "python",
   "nbconvert_exporter": "python",
   "pygments_lexer": "ipython3",
   "version": "3.10.5"
  }
 },
 "nbformat": 4,
 "nbformat_minor": 5
}
